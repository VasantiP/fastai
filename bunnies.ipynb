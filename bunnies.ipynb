{
  "cells": [
    {
      "cell_type": "markdown",
      "metadata": {
        "colab_type": "text",
        "id": "view-in-github"
      },
      "source": [
        "<a href=\"https://colab.research.google.com/github/VasantiP/fastai/blob/main/bunnies.ipynb\" target=\"_parent\"><img src=\"https://colab.research.google.com/assets/colab-badge.svg\" alt=\"Open In Colab\"/></a>"
      ]
    },
    {
      "cell_type": "markdown",
      "id": "98d53c05",
      "metadata": {
        "id": "98d53c05"
      },
      "source": [
        "## Gradio Bunnies"
      ]
    },
    {
      "cell_type": "code",
      "execution_count": 43,
      "id": "evvA0fqvSblq",
      "metadata": {
        "colab": {
          "base_uri": "https://localhost:8080/"
        },
        "id": "evvA0fqvSblq",
        "outputId": "6dae7370-73fe-4119-ac82-b212df73adaa"
      },
      "outputs": [
        {
          "name": "stderr",
          "output_type": "stream",
          "text": [
            "C:\\Users\\vasan\\AppData\\Local\\Packages\\PythonSoftwareFoundation.Python.3.13_qbz5n2kfra8p0\\LocalCache\\local-packages\\Python313\\site-packages\\IPython\\utils\\_process_win32.py:138: ResourceWarning: unclosed file <_io.BufferedWriter name=4>\n",
            "  res = process_handler(cmd, _system_body)\n",
            "ResourceWarning: Enable tracemalloc to get the object allocation traceback\n",
            "C:\\Users\\vasan\\AppData\\Local\\Packages\\PythonSoftwareFoundation.Python.3.13_qbz5n2kfra8p0\\LocalCache\\local-packages\\Python313\\site-packages\\IPython\\utils\\_process_win32.py:138: ResourceWarning: unclosed file <_io.BufferedReader name=5>\n",
            "  res = process_handler(cmd, _system_body)\n",
            "ResourceWarning: Enable tracemalloc to get the object allocation traceback\n",
            "C:\\Users\\vasan\\AppData\\Local\\Packages\\PythonSoftwareFoundation.Python.3.13_qbz5n2kfra8p0\\LocalCache\\local-packages\\Python313\\site-packages\\IPython\\utils\\_process_win32.py:138: ResourceWarning: unclosed file <_io.BufferedReader name=6>\n",
            "  res = process_handler(cmd, _system_body)\n",
            "ResourceWarning: Enable tracemalloc to get the object allocation traceback\n"
          ]
        },
        {
          "name": "stdout",
          "output_type": "stream",
          "text": [
            "Defaulting to user installation because normal site-packages is not writeable\n",
            "Requirement already satisfied: ddgs in c:\\users\\vasan\\appdata\\local\\packages\\pythonsoftwarefoundation.python.3.13_qbz5n2kfra8p0\\localcache\\local-packages\\python313\\site-packages (9.5.1)\n",
            "Requirement already satisfied: click>=8.1.8 in c:\\users\\vasan\\appdata\\local\\packages\\pythonsoftwarefoundation.python.3.13_qbz5n2kfra8p0\\localcache\\local-packages\\python313\\site-packages (from ddgs) (8.2.1)\n",
            "Requirement already satisfied: primp>=0.15.0 in c:\\users\\vasan\\appdata\\local\\packages\\pythonsoftwarefoundation.python.3.13_qbz5n2kfra8p0\\localcache\\local-packages\\python313\\site-packages (from ddgs) (0.15.0)\n",
            "Requirement already satisfied: lxml>=5.3.0 in c:\\users\\vasan\\appdata\\local\\packages\\pythonsoftwarefoundation.python.3.13_qbz5n2kfra8p0\\localcache\\local-packages\\python313\\site-packages (from ddgs) (6.0.0)\n",
            "Requirement already satisfied: colorama in c:\\users\\vasan\\appdata\\local\\packages\\pythonsoftwarefoundation.python.3.13_qbz5n2kfra8p0\\localcache\\local-packages\\python313\\site-packages (from click>=8.1.8->ddgs) (0.4.6)\n"
          ]
        },
        {
          "name": "stderr",
          "output_type": "stream",
          "text": [
            "C:\\Users\\vasan\\AppData\\Local\\Packages\\PythonSoftwareFoundation.Python.3.13_qbz5n2kfra8p0\\LocalCache\\local-packages\\Python313\\site-packages\\IPython\\utils\\_process_win32.py:138: ResourceWarning: unclosed file <_io.BufferedWriter name=4>\n",
            "  res = process_handler(cmd, _system_body)\n",
            "ResourceWarning: Enable tracemalloc to get the object allocation traceback\n",
            "C:\\Users\\vasan\\AppData\\Local\\Packages\\PythonSoftwareFoundation.Python.3.13_qbz5n2kfra8p0\\LocalCache\\local-packages\\Python313\\site-packages\\IPython\\utils\\_process_win32.py:138: ResourceWarning: unclosed file <_io.BufferedReader name=5>\n",
            "  res = process_handler(cmd, _system_body)\n",
            "ResourceWarning: Enable tracemalloc to get the object allocation traceback\n",
            "C:\\Users\\vasan\\AppData\\Local\\Packages\\PythonSoftwareFoundation.Python.3.13_qbz5n2kfra8p0\\LocalCache\\local-packages\\Python313\\site-packages\\IPython\\utils\\_process_win32.py:138: ResourceWarning: unclosed file <_io.BufferedReader name=6>\n",
            "  res = process_handler(cmd, _system_body)\n",
            "ResourceWarning: Enable tracemalloc to get the object allocation traceback\n"
          ]
        }
      ],
      "source": [
        "!pip install -Uqq fastai\n",
        "!pip install ddgs\n"
      ]
    },
    {
      "cell_type": "code",
      "execution_count": 44,
      "id": "6557b3dd",
      "metadata": {},
      "outputs": [],
      "source": [
        "from fastai.vision.all import *"
      ]
    },
    {
      "cell_type": "code",
      "execution_count": 41,
      "id": "53f2e9cd",
      "metadata": {},
      "outputs": [],
      "source": [
        "from duckduckgo_search import DDGS #DuckDuckGo\n",
        "def search_images(query, max_images=200): \n",
        "    return L(DDGS().images(query=query, max_results=max_images)).itemgot('image')"
      ]
    },
    {
      "cell_type": "code",
      "execution_count": null,
      "id": "b2a687e1",
      "metadata": {},
      "outputs": [],
      "source": [
        "urls = search_images('bunny photos', max_images=1)\n",
        "urls[0]"
      ]
    },
    {
      "cell_type": "code",
      "execution_count": null,
      "id": "32b1d932",
      "metadata": {},
      "outputs": [],
      "source": [
        "from fastdownload import download_url\n",
        "dest = 'bunny.jpg'\n",
        "download_url(urls[0], dest, show_progress=False)\n",
        "\n",
        "im = Image.open(dest)\n",
        "im.to_thumb(256, 256)"
      ]
    },
    {
      "cell_type": "code",
      "execution_count": null,
      "id": "d49a0422",
      "metadata": {},
      "outputs": [],
      "source": [
        "download_url(search_images('llama photos', max_images=1)[0], 'llama.jpg', show_progress=False)\n",
        "Image.open('llama.jpg').to_thumb(256, 256)"
      ]
    },
    {
      "cell_type": "code",
      "execution_count": null,
      "id": "55083714",
      "metadata": {},
      "outputs": [],
      "source": [
        "searches = 'bunny', 'llama'\n",
        "path = Path('bunny_or_not')\n",
        "\n",
        "for o in searches:\n",
        "    dest = (path/o)\n",
        "    dest.mkdir(exist_ok=True, parents=True)\n",
        "    download_images(dest, urls=search_images(f'{o} photo'))\n",
        "    time.sleep(5)\n",
        "    resize_images(path/o, max_size=400, dest=path/o)"
      ]
    },
    {
      "cell_type": "code",
      "execution_count": null,
      "id": "000e2bd9",
      "metadata": {},
      "outputs": [],
      "source": [
        "# remove any photos that do not download correctly\n",
        "failed = verify_images(get_image_files(path))\n",
        "failed.map(Path.unlink)\n",
        "len(failed)"
      ]
    },
    {
      "cell_type": "code",
      "execution_count": null,
      "id": "d838c0b3",
      "metadata": {
        "colab": {
          "base_uri": "https://localhost:8080/",
          "height": 37
        },
        "id": "d838c0b3",
        "outputId": "63868d07-39b8-4f31-dd1b-2df4a9819678"
      },
      "outputs": [],
      "source": [
        "dls = ImageDataLoaders.from_path_func(path=path,\n",
        "    fnames=get_image_files(path), valid_pct=0.2, seed=42,\n",
        "    label_func=parent_label,\n",
        "    item_tfms=[Resize(192, method='squish')])\n",
        "\n",
        "dls.show_batch(max_n=6)"
      ]
    },
    {
      "cell_type": "code",
      "execution_count": null,
      "id": "c107f724",
      "metadata": {
        "colab": {
          "base_uri": "https://localhost:8080/",
          "height": 277,
          "referenced_widgets": [
            "efb689e940744e9bad0cfab208718fd7",
            "1a6078d8ef224824a3bfa3eed8ce0d33",
            "94935a38e4ff41d499b3217da9c2a000",
            "017144760fc2415b904ff37f25e2cfe4",
            "9e939d4fee914cb081f0ed1894ce8718",
            "1a97ea461dc44f2d8b29506f882c3234",
            "4e2486b1160448cb96dfa8c4916d61e4",
            "b435246389f146ee8a9867d13920806a",
            "c8d143e9f044423bb4861b1b31c86378",
            "4937c888ca85495caba5b51308abf8d5",
            "3e3b5315a1e04b9c84eec1579f2ff090"
          ]
        },
        "id": "c107f724",
        "outputId": "1157783d-6e61-4582-b689-9dc373bf7d00"
      },
      "outputs": [],
      "source": [
        "learn = vision_learner(dls, resnet18, metrics=error_rate)\n",
        "learn.fine_tune(3)"
      ]
    },
    {
      "cell_type": "code",
      "execution_count": null,
      "id": "b2408683",
      "metadata": {},
      "outputs": [],
      "source": [
        "is_bunny,_,probs = learn.predict(PILImage.create('bunny.jpg'))\n",
        "print(f'This is a : {is_bunny}.')\n",
        "print(f\"Probability it's a bunny: {probs[0]:.4f}\")\n",
        "\n",
        "is_bunny,_,probs = learn.predict(PILImage.create('llama.jpg'))\n",
        "print(f'This is a : {is_bunny}.')\n",
        "print(f\"Probability it's a {is_bunny}: {max(probs):.4f}\")"
      ]
    },
    {
      "cell_type": "code",
      "execution_count": null,
      "id": "ae2bc6ac",
      "metadata": {
        "id": "ae2bc6ac"
      },
      "outputs": [],
      "source": [
        "learn.export('bunny-model.pkl')"
      ]
    },
    {
      "cell_type": "code",
      "execution_count": null,
      "id": "Q2HTrQKTf3BV",
      "metadata": {
        "id": "Q2HTrQKTf3BV"
      },
      "outputs": [],
      "source": [
        "interp = ClassificationInterpretation.from_learner(learn)\n",
        "interp.plot_confusion_matrix()\n",
        "interp.plot_top_losses(5, nrows=1)"
      ]
    },
    {
      "cell_type": "code",
      "execution_count": 45,
      "id": "6d429f28",
      "metadata": {},
      "outputs": [
        {
          "ename": "NameError",
          "evalue": "name 'ImageClassifierCleaner' is not defined",
          "output_type": "error",
          "traceback": [
            "\u001b[31m---------------------------------------------------------------------------\u001b[39m",
            "\u001b[31mNameError\u001b[39m                                 Traceback (most recent call last)",
            "\u001b[36mCell\u001b[39m\u001b[36m \u001b[39m\u001b[32mIn[45]\u001b[39m\u001b[32m, line 2\u001b[39m\n\u001b[32m      1\u001b[39m \u001b[38;5;66;03m#hide_output\u001b[39;00m\n\u001b[32m----> \u001b[39m\u001b[32m2\u001b[39m cleaner = \u001b[43mImageClassifierCleaner\u001b[49m(learn)\n\u001b[32m      3\u001b[39m cleaner\n",
            "\u001b[31mNameError\u001b[39m: name 'ImageClassifierCleaner' is not defined"
          ]
        }
      ],
      "source": [
        "#hide_output\n",
        "cleaner = ImageClassifierCleaner(learn)\n",
        "cleaner"
      ]
    }
  ],
  "metadata": {
    "accelerator": "GPU",
    "colab": {
      "include_colab_link": true,
      "provenance": []
    },
    "kernelspec": {
      "display_name": "Python 3",
      "language": "python",
      "name": "python3"
    },
    "language_info": {
      "codemirror_mode": {
        "name": "ipython",
        "version": 3
      },
      "file_extension": ".py",
      "mimetype": "text/x-python",
      "name": "python",
      "nbconvert_exporter": "python",
      "pygments_lexer": "ipython3",
      "version": "3.13.5"
    },
    "toc": {
      "base_numbering": 1,
      "nav_menu": {},
      "number_sections": false,
      "sideBar": true,
      "skip_h1_title": false,
      "title_cell": "Table of Contents",
      "title_sidebar": "Contents",
      "toc_cell": false,
      "toc_position": {},
      "toc_section_display": true,
      "toc_window_display": false
    },
    "widgets": {
      "application/vnd.jupyter.widget-state+json": {
        "017144760fc2415b904ff37f25e2cfe4": {
          "model_module": "@jupyter-widgets/controls",
          "model_module_version": "1.5.0",
          "model_name": "HTMLModel",
          "state": {
            "_dom_classes": [],
            "_model_module": "@jupyter-widgets/controls",
            "_model_module_version": "1.5.0",
            "_model_name": "HTMLModel",
            "_view_count": null,
            "_view_module": "@jupyter-widgets/controls",
            "_view_module_version": "1.5.0",
            "_view_name": "HTMLView",
            "description": "",
            "description_tooltip": null,
            "layout": "IPY_MODEL_4937c888ca85495caba5b51308abf8d5",
            "placeholder": "​",
            "style": "IPY_MODEL_3e3b5315a1e04b9c84eec1579f2ff090",
            "value": " 44.7M/44.7M [00:00&lt;00:00, 160MB/s]"
          }
        },
        "1a6078d8ef224824a3bfa3eed8ce0d33": {
          "model_module": "@jupyter-widgets/controls",
          "model_module_version": "1.5.0",
          "model_name": "HTMLModel",
          "state": {
            "_dom_classes": [],
            "_model_module": "@jupyter-widgets/controls",
            "_model_module_version": "1.5.0",
            "_model_name": "HTMLModel",
            "_view_count": null,
            "_view_module": "@jupyter-widgets/controls",
            "_view_module_version": "1.5.0",
            "_view_name": "HTMLView",
            "description": "",
            "description_tooltip": null,
            "layout": "IPY_MODEL_1a97ea461dc44f2d8b29506f882c3234",
            "placeholder": "​",
            "style": "IPY_MODEL_4e2486b1160448cb96dfa8c4916d61e4",
            "value": "100%"
          }
        },
        "1a97ea461dc44f2d8b29506f882c3234": {
          "model_module": "@jupyter-widgets/base",
          "model_module_version": "1.2.0",
          "model_name": "LayoutModel",
          "state": {
            "_model_module": "@jupyter-widgets/base",
            "_model_module_version": "1.2.0",
            "_model_name": "LayoutModel",
            "_view_count": null,
            "_view_module": "@jupyter-widgets/base",
            "_view_module_version": "1.2.0",
            "_view_name": "LayoutView",
            "align_content": null,
            "align_items": null,
            "align_self": null,
            "border": null,
            "bottom": null,
            "display": null,
            "flex": null,
            "flex_flow": null,
            "grid_area": null,
            "grid_auto_columns": null,
            "grid_auto_flow": null,
            "grid_auto_rows": null,
            "grid_column": null,
            "grid_gap": null,
            "grid_row": null,
            "grid_template_areas": null,
            "grid_template_columns": null,
            "grid_template_rows": null,
            "height": null,
            "justify_content": null,
            "justify_items": null,
            "left": null,
            "margin": null,
            "max_height": null,
            "max_width": null,
            "min_height": null,
            "min_width": null,
            "object_fit": null,
            "object_position": null,
            "order": null,
            "overflow": null,
            "overflow_x": null,
            "overflow_y": null,
            "padding": null,
            "right": null,
            "top": null,
            "visibility": null,
            "width": null
          }
        },
        "3e3b5315a1e04b9c84eec1579f2ff090": {
          "model_module": "@jupyter-widgets/controls",
          "model_module_version": "1.5.0",
          "model_name": "DescriptionStyleModel",
          "state": {
            "_model_module": "@jupyter-widgets/controls",
            "_model_module_version": "1.5.0",
            "_model_name": "DescriptionStyleModel",
            "_view_count": null,
            "_view_module": "@jupyter-widgets/base",
            "_view_module_version": "1.2.0",
            "_view_name": "StyleView",
            "description_width": ""
          }
        },
        "4937c888ca85495caba5b51308abf8d5": {
          "model_module": "@jupyter-widgets/base",
          "model_module_version": "1.2.0",
          "model_name": "LayoutModel",
          "state": {
            "_model_module": "@jupyter-widgets/base",
            "_model_module_version": "1.2.0",
            "_model_name": "LayoutModel",
            "_view_count": null,
            "_view_module": "@jupyter-widgets/base",
            "_view_module_version": "1.2.0",
            "_view_name": "LayoutView",
            "align_content": null,
            "align_items": null,
            "align_self": null,
            "border": null,
            "bottom": null,
            "display": null,
            "flex": null,
            "flex_flow": null,
            "grid_area": null,
            "grid_auto_columns": null,
            "grid_auto_flow": null,
            "grid_auto_rows": null,
            "grid_column": null,
            "grid_gap": null,
            "grid_row": null,
            "grid_template_areas": null,
            "grid_template_columns": null,
            "grid_template_rows": null,
            "height": null,
            "justify_content": null,
            "justify_items": null,
            "left": null,
            "margin": null,
            "max_height": null,
            "max_width": null,
            "min_height": null,
            "min_width": null,
            "object_fit": null,
            "object_position": null,
            "order": null,
            "overflow": null,
            "overflow_x": null,
            "overflow_y": null,
            "padding": null,
            "right": null,
            "top": null,
            "visibility": null,
            "width": null
          }
        },
        "4e2486b1160448cb96dfa8c4916d61e4": {
          "model_module": "@jupyter-widgets/controls",
          "model_module_version": "1.5.0",
          "model_name": "DescriptionStyleModel",
          "state": {
            "_model_module": "@jupyter-widgets/controls",
            "_model_module_version": "1.5.0",
            "_model_name": "DescriptionStyleModel",
            "_view_count": null,
            "_view_module": "@jupyter-widgets/base",
            "_view_module_version": "1.2.0",
            "_view_name": "StyleView",
            "description_width": ""
          }
        },
        "94935a38e4ff41d499b3217da9c2a000": {
          "model_module": "@jupyter-widgets/controls",
          "model_module_version": "1.5.0",
          "model_name": "FloatProgressModel",
          "state": {
            "_dom_classes": [],
            "_model_module": "@jupyter-widgets/controls",
            "_model_module_version": "1.5.0",
            "_model_name": "FloatProgressModel",
            "_view_count": null,
            "_view_module": "@jupyter-widgets/controls",
            "_view_module_version": "1.5.0",
            "_view_name": "ProgressView",
            "bar_style": "success",
            "description": "",
            "description_tooltip": null,
            "layout": "IPY_MODEL_b435246389f146ee8a9867d13920806a",
            "max": 46830571,
            "min": 0,
            "orientation": "horizontal",
            "style": "IPY_MODEL_c8d143e9f044423bb4861b1b31c86378",
            "value": 46830571
          }
        },
        "9e939d4fee914cb081f0ed1894ce8718": {
          "model_module": "@jupyter-widgets/base",
          "model_module_version": "1.2.0",
          "model_name": "LayoutModel",
          "state": {
            "_model_module": "@jupyter-widgets/base",
            "_model_module_version": "1.2.0",
            "_model_name": "LayoutModel",
            "_view_count": null,
            "_view_module": "@jupyter-widgets/base",
            "_view_module_version": "1.2.0",
            "_view_name": "LayoutView",
            "align_content": null,
            "align_items": null,
            "align_self": null,
            "border": null,
            "bottom": null,
            "display": null,
            "flex": null,
            "flex_flow": null,
            "grid_area": null,
            "grid_auto_columns": null,
            "grid_auto_flow": null,
            "grid_auto_rows": null,
            "grid_column": null,
            "grid_gap": null,
            "grid_row": null,
            "grid_template_areas": null,
            "grid_template_columns": null,
            "grid_template_rows": null,
            "height": null,
            "justify_content": null,
            "justify_items": null,
            "left": null,
            "margin": null,
            "max_height": null,
            "max_width": null,
            "min_height": null,
            "min_width": null,
            "object_fit": null,
            "object_position": null,
            "order": null,
            "overflow": null,
            "overflow_x": null,
            "overflow_y": null,
            "padding": null,
            "right": null,
            "top": null,
            "visibility": null,
            "width": null
          }
        },
        "b435246389f146ee8a9867d13920806a": {
          "model_module": "@jupyter-widgets/base",
          "model_module_version": "1.2.0",
          "model_name": "LayoutModel",
          "state": {
            "_model_module": "@jupyter-widgets/base",
            "_model_module_version": "1.2.0",
            "_model_name": "LayoutModel",
            "_view_count": null,
            "_view_module": "@jupyter-widgets/base",
            "_view_module_version": "1.2.0",
            "_view_name": "LayoutView",
            "align_content": null,
            "align_items": null,
            "align_self": null,
            "border": null,
            "bottom": null,
            "display": null,
            "flex": null,
            "flex_flow": null,
            "grid_area": null,
            "grid_auto_columns": null,
            "grid_auto_flow": null,
            "grid_auto_rows": null,
            "grid_column": null,
            "grid_gap": null,
            "grid_row": null,
            "grid_template_areas": null,
            "grid_template_columns": null,
            "grid_template_rows": null,
            "height": null,
            "justify_content": null,
            "justify_items": null,
            "left": null,
            "margin": null,
            "max_height": null,
            "max_width": null,
            "min_height": null,
            "min_width": null,
            "object_fit": null,
            "object_position": null,
            "order": null,
            "overflow": null,
            "overflow_x": null,
            "overflow_y": null,
            "padding": null,
            "right": null,
            "top": null,
            "visibility": null,
            "width": null
          }
        },
        "c8d143e9f044423bb4861b1b31c86378": {
          "model_module": "@jupyter-widgets/controls",
          "model_module_version": "1.5.0",
          "model_name": "ProgressStyleModel",
          "state": {
            "_model_module": "@jupyter-widgets/controls",
            "_model_module_version": "1.5.0",
            "_model_name": "ProgressStyleModel",
            "_view_count": null,
            "_view_module": "@jupyter-widgets/base",
            "_view_module_version": "1.2.0",
            "_view_name": "StyleView",
            "bar_color": null,
            "description_width": ""
          }
        },
        "efb689e940744e9bad0cfab208718fd7": {
          "model_module": "@jupyter-widgets/controls",
          "model_module_version": "1.5.0",
          "model_name": "HBoxModel",
          "state": {
            "_dom_classes": [],
            "_model_module": "@jupyter-widgets/controls",
            "_model_module_version": "1.5.0",
            "_model_name": "HBoxModel",
            "_view_count": null,
            "_view_module": "@jupyter-widgets/controls",
            "_view_module_version": "1.5.0",
            "_view_name": "HBoxView",
            "box_style": "",
            "children": [
              "IPY_MODEL_1a6078d8ef224824a3bfa3eed8ce0d33",
              "IPY_MODEL_94935a38e4ff41d499b3217da9c2a000",
              "IPY_MODEL_017144760fc2415b904ff37f25e2cfe4"
            ],
            "layout": "IPY_MODEL_9e939d4fee914cb081f0ed1894ce8718"
          }
        }
      }
    }
  },
  "nbformat": 4,
  "nbformat_minor": 5
}
